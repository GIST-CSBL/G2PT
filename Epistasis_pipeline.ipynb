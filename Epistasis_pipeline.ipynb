{
 "cells": [
  {
   "cell_type": "code",
   "execution_count": 1,
   "id": "8af44c52-46fe-46d2-a808-1ab16123b5c5",
   "metadata": {
    "pycharm": {
     "name": "#%%\n"
    }
   },
   "outputs": [],
   "source": [
    "import pandas as pd\n",
    "import sys"
   ]
  },
  {
   "cell_type": "code",
   "execution_count": 2,
   "id": "5180d942-fbac-45c5-8e9c-5ced5509fb46",
   "metadata": {
    "pycharm": {
     "name": "#%%\n"
    }
   },
   "outputs": [],
   "source": [
    "from src.utils.tree import SNPTreeParser\n",
    "from src.utils.analysis import EpistasisFinder"
   ]
  },
  {
   "cell_type": "code",
   "execution_count": 3,
   "id": "9bd9274f-5823-474e-84fc-05cebe048f8a",
   "metadata": {
    "pycharm": {
     "name": "#%%\n"
    }
   },
   "outputs": [],
   "source": [
    "bfile = 'path_to_your_genotype' # prefix for PLINK bfile (\"https://www.cog-genomics.org/plink/1.9/input\")\n",
    "ont = 'path_to_ontology_file.txt'\n",
    "snp2gene = 'path_to_snp2gene_file.txt'"
   ]
  },
  {
   "cell_type": "code",
   "execution_count": 4,
   "id": "e0c521f7-d5de-494f-9f12-87b06d21e0d8",
   "metadata": {
    "pycharm": {
     "name": "#%%\n"
    }
   },
   "outputs": [
    {
     "name": "stdout",
     "output_type": "stream",
     "text": [
      "2227 Systems are queried\n",
      "963 Genes are queried\n",
      "Total 9646 Gene-System interactions are queried\n",
      "Building descendant dict\n",
      "Subtree types:  ['default']\n"
     ]
    }
   ],
   "source": [
    "tree_parser = SNPTreeParser(ont, snp2gene, sys_annot_file='GO_files/goID_2_name.tab')"
   ]
  },
  {
   "cell_type": "code",
   "execution_count": 5,
   "id": "1c81bdd3-3adf-4ebe-a37e-95287eb5346c",
   "metadata": {
    "pycharm": {
     "name": "#%%\n"
    }
   },
   "outputs": [],
   "source": [
    "attention_result = 'path_to_attention_result_from_your_G2PT_prediction'"
   ]
  },
  {
   "cell_type": "code",
   "execution_count": 6,
   "id": "2e2b3a9b-bf56-4b2f-9140-1c5965e69e4e",
   "metadata": {
    "pycharm": {
     "name": "#%%\n"
    }
   },
   "outputs": [],
   "source": [
    "cov = 'path_to_covariate_file' # PLINK Covar file https://www.cog-genomics.org/plink/1.9/input"
   ]
  },
  {
   "cell_type": "code",
   "execution_count": 7,
   "id": "e811636f-0edc-40c0-b73e-8a82f279e676",
   "metadata": {
    "pycharm": {
     "name": "#%%\n"
    }
   },
   "outputs": [
    {
     "name": "stdout",
     "output_type": "stream",
     "text": [
      "Swapping Ref and Alt!\n",
      "From PLINK 4019 variants with 317007 samples are queried\n"
     ]
    }
   ],
   "source": [
    "epistasis_finder = EpistasisFinder(tree_parser, bfile, attention_results=attention_result, cov=cov, flip=True)"
   ]
  },
  {
   "cell_type": "code",
   "execution_count": 8,
   "id": "2a2de4d0-7600-45e5-a46e-2c03c0032817",
   "metadata": {
    "pycharm": {
     "name": "#%%\n"
    }
   },
   "outputs": [],
   "source": [
    "target_system = 'GO:0015914'"
   ]
  },
  {
   "cell_type": "markdown",
   "id": "05f7b3f2-fc31-4f3c-be6a-e6847d237481",
   "metadata": {
    "pycharm": {
     "name": "#%% md\n"
    }
   },
   "source": [
    "# 1. Epistasis Search in Target System"
   ]
  },
  {
   "cell_type": "code",
   "execution_count": 9,
   "id": "a8472a36-b9a9-4669-b9c6-8135d7301775",
   "metadata": {
    "pycharm": {
     "name": "#%%\n"
    }
   },
   "outputs": [
    {
     "name": "stdout",
     "output_type": "stream",
     "text": [
      "System: GO:0015914, Sex: 1\n",
      "Running Chi-Square Test...\n",
      "\tTesting 81 SNPs on 14530 risky individuals\n",
      "\tFrom 81 SNPs, 34 SNPs pass Chi-Square test\n",
      "Running Fisher\n",
      "\tFrom 561.0 significant pairs, 180 pairs pass Fisher test\n",
      "Filtering Close SNPs\n",
      "\tFrom 180 pairs, close 87 SNP pairs are removed\n",
      "Calculating statistical Interaction p-value \n",
      "\tTesting 27 SNPs on 145295 individuals, SNPs in system ()\n",
      "\tFrom 93 pairs, 9 significant interaction are queried\n"
     ]
    }
   ],
   "source": [
    "# set verbose=1 if you want to detailed statistical result (not recommended for large system)\n",
    "epistasis_results, snp_inheritance = epistasis_finder.search_epistasis_on_system(target_system, sex=1, quantile=0.1, check_inheritance=True) "
   ]
  },
  {
   "cell_type": "code",
   "execution_count": 10,
   "id": "8422f8a8-23f6-488f-aa48-41459060685a",
   "metadata": {
    "pycharm": {
     "name": "#%%\n"
    }
   },
   "outputs": [
    {
     "name": "stdout",
     "output_type": "stream",
     "text": [
      "16:57005479:C:A CETP 19:45408836:T:G APOE 0.0035914003713214734 0.04540732579614794\n",
      "11:116744389:T:C APOA4 16:56995236:C:A CETP 0.00041898025564368965 0.0225359530382713\n",
      "19:45410444:G:A APOE 9:107657070:G:A ABCA1 0.004111591136613115 0.04540732579614794\n",
      "11:116744389:T:C APOA4 16:57005479:C:A CETP 0.0011019161045786087 0.02561954943145265\n",
      "11:116744389:T:C APOA4 16:56990716:C:A CETP 0.00439425733511109 0.04540732579614794\n",
      "16:56990716:C:A CETP 19:45422946:A:G APOC1 0.0007269662270410097 0.0225359530382713\n",
      "11:116711180:A:G APOA1 16:56995236:C:A CETP 0.0026071713179044616 0.04540732579614794\n",
      "11:116744389:T:C APOA4 16:56993324:C:A CETP 0.004163769483275652 0.04540732579614794\n",
      "16:56993324:C:A CETP 19:45422946:A:G APOC1 0.0006709175815197437 0.0225359530382713\n"
     ]
    }
   ],
   "source": [
    "epistasis_results_with_genes = []\n",
    "\n",
    "for snp_1, snp_2, p_val, p_val_adjusted in epistasis_results:\n",
    "    gene1 = [gene for gene in tree_parser.snp2gene[snp_1] if gene in tree_parser.sys2gene_full[target_system]]\n",
    "    gene2 = [gene for gene in tree_parser.snp2gene[snp_2] if gene in tree_parser.sys2gene_full[target_system]]\n",
    "    gene_product_list = [(x, y) for x in gene1 for y in gene2]\n",
    "    for g1, g2 in gene_product_list:\n",
    "        epistasis_results_with_genes.append((snp_1, g1,  snp_2, g2, p_val, p_val_adjusted))\n",
    "        print(snp_1, g1,  snp_2, g2, p_val, p_val_adjusted)"
   ]
  },
  {
   "cell_type": "markdown",
   "id": "a1060a75-85e9-4b20-94a8-5d3a416676a2",
   "metadata": {
    "pycharm": {
     "name": "#%% md\n"
    }
   },
   "source": [
    "# 2. Epistasis Visualization"
   ]
  },
  {
   "cell_type": "markdown",
   "id": "928fd8f6-06b2-4912-b396-ac7b803062ce",
   "metadata": {
    "pycharm": {
     "name": "#%% md\n"
    }
   },
   "source": [
    "## 2.1 Epistatic interaction plots"
   ]
  },
  {
   "cell_type": "markdown",
   "id": "9955558a-0d70-4e65-8d5b-1e73e35b1f96",
   "metadata": {
    "pycharm": {
     "name": "#%% md\n"
    }
   },
   "source": [
    "put SNP pairs from your epistatic results"
   ]
  },
  {
   "cell_type": "code",
   "execution_count": 11,
   "id": "d73cb49d-48e0-4df7-a1ad-806f1d164c7d",
   "metadata": {
    "pycharm": {
     "name": "#%%\n"
    }
   },
   "outputs": [
    {
     "data": {
      "image/png": "[encoded data removed]",
      "text/plain": [
       "<Figure size 2200x500 with 4 Axes>"
      ]
     },
     "metadata": {},
     "output_type": "display_data"
    }
   ],
   "source": [
    "epistasis_finder.draw_epistasis('11:116744389:T:C', '16:56993324:C:A', phenotype='PHENOTYPE', sex=1) # put out_dir='path_to_save' to save figure as svg"
   ]
  },
  {
   "cell_type": "markdown",
   "id": "135b1712-66ec-46af-93d3-426af1a857c4",
   "metadata": {
    "pycharm": {
     "name": "#%% md\n"
    }
   },
   "source": [
    "## 2.2 Epistatic Sub-hierarchy Visualization"
   ]
  },
  {
   "cell_type": "markdown",
   "id": "b04678f5-bb01-40e7-aba8-ea3c5c1f9224",
   "metadata": {
    "pycharm": {
     "name": "#%% md\n"
    }
   },
   "source": [
    "You can visualize epistasis under the target system"
   ]
  },
  {
   "cell_type": "code",
   "execution_count": 12,
   "id": "9e3b9fd4-12e5-4e20-90a2-9b06f8844bca",
   "metadata": {
    "pycharm": {
     "name": "#%%\n"
    }
   },
   "outputs": [],
   "source": [
    "from src.utils.visualization.epistasis import EpistasisVisualizer"
   ]
  },
  {
   "cell_type": "code",
   "execution_count": 13,
   "id": "986a401b-ca46-4103-99f9-0fd992077ae4",
   "metadata": {
    "pycharm": {
     "name": "#%%\n"
    }
   },
   "outputs": [],
   "source": [
    "epistasis_visualizer = EpistasisVisualizer(tree_parser)"
   ]
  },
  {
   "cell_type": "code",
   "execution_count": 14,
   "id": "7ecce81c-3f12-42a9-bdcb-6076120b0992",
   "metadata": {
    "pycharm": {
     "name": "#%%\n"
    }
   },
   "outputs": [],
   "source": [
    "epistasis_results_genes = [[gene1, gene2] for snp1, gene1, snp2, gene2, p_val, adjusted_p_val in epistasis_results_with_genes]"
   ]
  },
  {
   "cell_type": "code",
   "execution_count": 15,
   "id": "47b2a67b-8f41-48a5-8ea1-41baf26eeff4",
   "metadata": {
    "pycharm": {
     "name": "#%%\n"
    }
   },
   "outputs": [
    {
     "data": {
      "image/svg+xml": [
       "<?xml version=\"1.0\" encoding=\"UTF-8\" standalone=\"no\"?>\n",
       "<!DOCTYPE svg PUBLIC \"-//W3C//DTD SVG 1.1//EN\"\n",
       " \"http://www.w3.org/Graphics/SVG/1.1/DTD/svg11.dtd\">\n",
       "<!-- Generated by graphviz version 2.50.0 (0)\n",
       " -->\n",
       "<!-- Pages: 1 -->\n",
       "<svg width=\"383pt\" height=\"509pt\"\n",
       " viewBox=\"0.00 0.00 383.00 509.00\" xmlns=\"http://www.w3.org/2000/svg\" xmlns:xlink=\"http://www.w3.org/1999/xlink\">\n",
       "<g id=\"graph0\" class=\"graph\" transform=\"scale(1 1) rotate(0) translate(4 505)\">\n",
       "<polygon fill=\"white\" stroke=\"transparent\" points=\"-4,4 -4,-505 379,-505 379,4 -4,4\"/>\n",
       "<!-- GO:0033700 -->\n",
       "<g id=\"node1\" class=\"node\">\n",
       "<title>GO:0033700</title>\n",
       "<ellipse fill=\"red\" stroke=\"black\" cx=\"175\" cy=\"-325.5\" rx=\"37.5\" ry=\"37.5\"/>\n",
       "<text text-anchor=\"middle\" x=\"84.5\" y=\"-276.8\" font-family=\"Times,serif\" font-size=\"14.00\">phospholipid efflux</text>\n",
       "</g>\n",
       "<!-- GO:0015914 -->\n",
       "<g id=\"node2\" class=\"node\">\n",
       "<title>GO:0015914</title>\n",
       "<ellipse fill=\"red\" stroke=\"black\" cx=\"175\" cy=\"-450\" rx=\"51\" ry=\"51\"/>\n",
       "<text text-anchor=\"middle\" x=\"62\" y=\"-387.8\" font-family=\"Times,serif\" font-size=\"14.00\">phospholipid transport</text>\n",
       "</g>\n",
       "<!-- GO:0033700&#45;&gt;GO:0015914 -->\n",
       "<g id=\"edge1\" class=\"edge\">\n",
       "<title>GO:0033700&#45;&gt;GO:0015914</title>\n",
       "<path fill=\"none\" stroke=\"black\" d=\"M175,-363.25C175,-371.26 175,-379.93 175,-388.58\"/>\n",
       "<polygon fill=\"black\" stroke=\"black\" points=\"171.5,-388.68 175,-398.68 178.5,-388.68 171.5,-388.68\"/>\n",
       "</g>\n",
       "<!-- GO:0045332 -->\n",
       "<g id=\"node3\" class=\"node\">\n",
       "<title>GO:0045332</title>\n",
       "<ellipse fill=\"red\" stroke=\"black\" cx=\"259\" cy=\"-325.5\" rx=\"29\" ry=\"29\"/>\n",
       "<text text-anchor=\"middle\" x=\"302.5\" y=\"-285.3\" font-family=\"Times,serif\" font-size=\"14.00\">phospholipid translocation</text>\n",
       "</g>\n",
       "<!-- GO:0045332&#45;&gt;GO:0015914 -->\n",
       "<g id=\"edge2\" class=\"edge\">\n",
       "<title>GO:0045332&#45;&gt;GO:0015914</title>\n",
       "<path fill=\"none\" stroke=\"black\" d=\"M243,-349.83C233.43,-363.79 220.89,-382.08 209.18,-399.15\"/>\n",
       "<polygon fill=\"black\" stroke=\"black\" points=\"206.29,-397.18 203.52,-407.41 212.06,-401.14 206.29,-397.18\"/>\n",
       "</g>\n",
       "<!-- ABCA1 -->\n",
       "<g id=\"node4\" class=\"node\">\n",
       "<title>ABCA1</title>\n",
       "<ellipse fill=\"lightgray\" stroke=\"black\" cx=\"259\" cy=\"-234\" rx=\"40.5\" ry=\"18\"/>\n",
       "<text text-anchor=\"middle\" x=\"259\" y=\"-230.3\" font-family=\"Times,serif\" font-size=\"14.00\">ABCA1</text>\n",
       "</g>\n",
       "<!-- ABCA1&#45;&gt;GO:0033700 -->\n",
       "<g id=\"edge3\" class=\"edge\">\n",
       "<title>ABCA1&#45;&gt;GO:0033700</title>\n",
       "<path fill=\"none\" stroke=\"black\" d=\"M243.98,-251C233.79,-261.86 219.92,-276.64 207.29,-290.1\"/>\n",
       "<polygon fill=\"black\" stroke=\"black\" points=\"204.73,-287.72 200.43,-297.4 209.83,-292.51 204.73,-287.72\"/>\n",
       "</g>\n",
       "<!-- ABCA1&#45;&gt;GO:0045332 -->\n",
       "<g id=\"edge4\" class=\"edge\">\n",
       "<title>ABCA1&#45;&gt;GO:0045332</title>\n",
       "<path fill=\"none\" stroke=\"black\" d=\"M259,-252.26C259,-261.92 259,-274.38 259,-286.22\"/>\n",
       "<polygon fill=\"black\" stroke=\"black\" points=\"255.5,-286.38 259,-296.38 262.5,-286.38 255.5,-286.38\"/>\n",
       "</g>\n",
       "<!-- APOA1 -->\n",
       "<g id=\"node5\" class=\"node\">\n",
       "<title>APOA1</title>\n",
       "<ellipse fill=\"lightgray\" stroke=\"black\" cx=\"74\" cy=\"-18\" rx=\"38.5\" ry=\"18\"/>\n",
       "<text text-anchor=\"middle\" x=\"74\" y=\"-14.3\" font-family=\"Times,serif\" font-size=\"14.00\">APOA1</text>\n",
       "</g>\n",
       "<!-- APOA1&#45;&gt;GO:0033700 -->\n",
       "<g id=\"edge5\" class=\"edge\">\n",
       "<title>APOA1&#45;&gt;GO:0033700</title>\n",
       "<path fill=\"none\" stroke=\"black\" d=\"M69.25,-36.02C59.03,-76.25 38.73,-179.28 76,-252 87.9,-275.22 111.08,-292.82 132.02,-304.86\"/>\n",
       "<polygon fill=\"black\" stroke=\"black\" points=\"130.37,-307.95 140.82,-309.68 133.73,-301.81 130.37,-307.95\"/>\n",
       "</g>\n",
       "<!-- CETP -->\n",
       "<g id=\"node6\" class=\"node\">\n",
       "<title>CETP</title>\n",
       "<ellipse fill=\"lightgray\" stroke=\"black\" cx=\"124\" cy=\"-90\" rx=\"32.5\" ry=\"18\"/>\n",
       "<text text-anchor=\"middle\" x=\"124\" y=\"-86.3\" font-family=\"Times,serif\" font-size=\"14.00\">CETP</text>\n",
       "</g>\n",
       "<!-- APOA1&#45;&gt;CETP -->\n",
       "<g id=\"edge6\" class=\"edge\">\n",
       "<title>APOA1&#45;&gt;CETP</title>\n",
       "<path fill=\"none\" stroke=\"red\" stroke-dasharray=\"5,2\" d=\"M91.43,-43.41C96.33,-50.26 101.66,-57.72 106.55,-64.58\"/>\n",
       "<polygon fill=\"red\" stroke=\"red\" points=\"94.26,-41.34 85.6,-35.23 88.56,-45.41 94.26,-41.34\"/>\n",
       "<polygon fill=\"red\" stroke=\"red\" points=\"103.81,-66.76 112.47,-72.85 109.5,-62.68 103.81,-66.76\"/>\n",
       "</g>\n",
       "<!-- CETP&#45;&gt;GO:0015914 -->\n",
       "<g id=\"edge7\" class=\"edge\">\n",
       "<title>CETP&#45;&gt;GO:0015914</title>\n",
       "<path fill=\"none\" stroke=\"black\" d=\"M113.4,-107.25C95.89,-136.08 64.02,-198.19 76,-252 87.86,-305.27 117.21,-360.3 140.9,-398.62\"/>\n",
       "<polygon fill=\"black\" stroke=\"black\" points=\"138.2,-400.9 146.48,-407.5 144.12,-397.17 138.2,-400.9\"/>\n",
       "</g>\n",
       "<!-- APOC1 -->\n",
       "<g id=\"node7\" class=\"node\">\n",
       "<title>APOC1</title>\n",
       "<ellipse fill=\"lightgray\" stroke=\"black\" cx=\"124\" cy=\"-234\" rx=\"39\" ry=\"18\"/>\n",
       "<text text-anchor=\"middle\" x=\"124\" y=\"-230.3\" font-family=\"Times,serif\" font-size=\"14.00\">APOC1</text>\n",
       "</g>\n",
       "<!-- CETP&#45;&gt;APOC1 -->\n",
       "<g id=\"edge8\" class=\"edge\">\n",
       "<title>CETP&#45;&gt;APOC1</title>\n",
       "<path fill=\"none\" stroke=\"red\" stroke-dasharray=\"5,2\" d=\"M124,-118.32C124,-143.4 124,-180.37 124,-205.51\"/>\n",
       "<polygon fill=\"red\" stroke=\"red\" points=\"127.5,-118.13 124,-108.13 120.5,-118.13 127.5,-118.13\"/>\n",
       "<polygon fill=\"red\" stroke=\"red\" points=\"120.5,-205.81 124,-215.81 127.5,-205.81 120.5,-205.81\"/>\n",
       "</g>\n",
       "<!-- APOE -->\n",
       "<g id=\"node8\" class=\"node\">\n",
       "<title>APOE</title>\n",
       "<ellipse fill=\"lightgray\" stroke=\"black\" cx=\"191\" cy=\"-162\" rx=\"34\" ry=\"18\"/>\n",
       "<text text-anchor=\"middle\" x=\"191\" y=\"-158.3\" font-family=\"Times,serif\" font-size=\"14.00\">APOE</text>\n",
       "</g>\n",
       "<!-- CETP&#45;&gt;APOE -->\n",
       "<g id=\"edge9\" class=\"edge\">\n",
       "<title>CETP&#45;&gt;APOE</title>\n",
       "<path fill=\"none\" stroke=\"red\" stroke-dasharray=\"5,2\" d=\"M145.74,-113.71C153.16,-121.47 161.47,-130.15 168.92,-137.94\"/>\n",
       "<polygon fill=\"red\" stroke=\"red\" points=\"147.98,-110.99 138.54,-106.19 142.93,-115.83 147.98,-110.99\"/>\n",
       "<polygon fill=\"red\" stroke=\"red\" points=\"166.58,-140.56 176.03,-145.36 171.64,-135.72 166.58,-140.56\"/>\n",
       "</g>\n",
       "<!-- APOC1&#45;&gt;GO:0033700 -->\n",
       "<g id=\"edge10\" class=\"edge\">\n",
       "<title>APOC1&#45;&gt;GO:0033700</title>\n",
       "<path fill=\"none\" stroke=\"black\" d=\"M133.59,-251.83C138.74,-260.86 145.32,-272.42 151.72,-283.64\"/>\n",
       "<polygon fill=\"black\" stroke=\"black\" points=\"148.79,-285.56 156.78,-292.52 154.87,-282.1 148.79,-285.56\"/>\n",
       "</g>\n",
       "<!-- APOE&#45;&gt;GO:0033700 -->\n",
       "<g id=\"edge11\" class=\"edge\">\n",
       "<title>APOE&#45;&gt;GO:0033700</title>\n",
       "<path fill=\"none\" stroke=\"black\" d=\"M189.32,-179.98C187.04,-203 182.88,-245 179.63,-277.81\"/>\n",
       "<polygon fill=\"black\" stroke=\"black\" points=\"176.11,-277.81 178.61,-288.11 183.08,-278.5 176.11,-277.81\"/>\n",
       "</g>\n",
       "<!-- APOE&#45;&gt;ABCA1 -->\n",
       "<g id=\"edge12\" class=\"edge\">\n",
       "<title>APOE&#45;&gt;ABCA1</title>\n",
       "<path fill=\"none\" stroke=\"red\" stroke-dasharray=\"5,2\" d=\"M213.29,-185.94C220.69,-193.57 228.95,-202.06 236.38,-209.72\"/>\n",
       "<polygon fill=\"red\" stroke=\"red\" points=\"215.57,-183.27 206.09,-178.54 210.56,-188.15 215.57,-183.27\"/>\n",
       "<polygon fill=\"red\" stroke=\"red\" points=\"234,-212.29 243.48,-217.02 239.02,-207.41 234,-212.29\"/>\n",
       "</g>\n",
       "<!-- APOA4 -->\n",
       "<g id=\"node9\" class=\"node\">\n",
       "<title>APOA4</title>\n",
       "<ellipse fill=\"lightgray\" stroke=\"black\" cx=\"174\" cy=\"-18\" rx=\"38.5\" ry=\"18\"/>\n",
       "<text text-anchor=\"middle\" x=\"174\" y=\"-14.3\" font-family=\"Times,serif\" font-size=\"14.00\">APOA4</text>\n",
       "</g>\n",
       "<!-- APOA4&#45;&gt;GO:0033700 -->\n",
       "<g id=\"edge13\" class=\"edge\">\n",
       "<title>APOA4&#45;&gt;GO:0033700</title>\n",
       "<path fill=\"none\" stroke=\"black\" d=\"M189.62,-34.57C219.61,-65.72 284.39,-139.31 308,-216 312.71,-231.29 316.89,-238.7 308,-252 284.75,-286.79 257.07,-266.79 221,-288 217.83,-289.87 214.63,-291.93 211.48,-294.11\"/>\n",
       "<polygon fill=\"black\" stroke=\"black\" points=\"209.35,-291.33 203.32,-300.04 213.47,-296.99 209.35,-291.33\"/>\n",
       "</g>\n",
       "<!-- APOA4&#45;&gt;CETP -->\n",
       "<g id=\"edge14\" class=\"edge\">\n",
       "<title>APOA4&#45;&gt;CETP</title>\n",
       "<path fill=\"none\" stroke=\"red\" stroke-dasharray=\"5,2\" d=\"M156.57,-43.41C151.67,-50.26 146.34,-57.72 141.45,-64.58\"/>\n",
       "<polygon fill=\"red\" stroke=\"red\" points=\"159.44,-45.41 162.4,-35.23 153.74,-41.34 159.44,-45.41\"/>\n",
       "<polygon fill=\"red\" stroke=\"red\" points=\"138.5,-62.68 135.53,-72.85 144.19,-66.76 138.5,-62.68\"/>\n",
       "</g>\n",
       "</g>\n",
       "</svg>\n"
      ],
      "text/plain": [
       "<AGraph <Swig Object of type 'Agraph_t *' at 0x1554540a9c60>>"
      ]
     },
     "execution_count": 15,
     "metadata": {},
     "output_type": "execute_result"
    }
   ],
   "source": [
    "epistasis_visualizer.visualize_epistasis(target_system=target_system, epistatic_interactions=epistasis_results_genes)"
   ]
  },
  {
   "cell_type": "markdown",
   "id": "302cea31-ab6a-428d-b607-6a485a168636",
   "metadata": {
    "pycharm": {
     "name": "#%% md\n"
    }
   },
   "source": [
    "# 3. Epistasis Analysis Result using LLM"
   ]
  },
  {
   "cell_type": "code",
   "execution_count": 16,
   "id": "754ee613-0b6f-49a7-a036-fabe2747fb33",
   "metadata": {
    "pycharm": {
     "name": "#%%\n"
    }
   },
   "outputs": [],
   "source": [
    "from src.utils.analysis.llm_explainer import EpistaticInteractionExplainer"
   ]
  },
  {
   "cell_type": "code",
   "execution_count": 17,
   "id": "527394b9-d35f-434c-8ec0-b950c2897ba9",
   "metadata": {
    "pycharm": {
     "name": "#%%\n"
    }
   },
   "outputs": [],
   "source": [
    "OPENAI_API_KEY = 'your_open_ai_api_key'"
   ]
  },
  {
   "cell_type": "code",
   "execution_count": 18,
   "id": "1885e648-d638-4f22-bae7-8aec61b6166c",
   "metadata": {
    "pycharm": {
     "name": "#%%\n"
    }
   },
   "outputs": [],
   "source": [
    "epistasis_explainer = EpistaticInteractionExplainer(OPENAI_API_KEY, model='chatgpt-4o-latest')"
   ]
  },
  {
   "cell_type": "markdown",
   "id": "f1737e7e-f626-43d5-8237-b98d8ffb2006",
   "metadata": {
    "pycharm": {
     "name": "#%% md\n"
    }
   },
   "source": [
    "Put your target system, phenotype, and target genes"
   ]
  },
  {
   "cell_type": "code",
   "execution_count": 19,
   "id": "f97bf309-00d1-47f5-80bf-c637bc398f9d",
   "metadata": {
    "pycharm": {
     "name": "#%%\n"
    }
   },
   "outputs": [],
   "source": [
    "llm_result = epistasis_explainer.explain_epistasis(tree_parser.sys_annot_dict[target_system], 'TG/HDL ratio', 'APOA4', 'CETP')"
   ]
  },
  {
   "cell_type": "markdown",
   "id": "d3806ded-dc81-4bce-a9cd-17063bf63660",
   "metadata": {
    "pycharm": {
     "name": "#%% md\n"
    }
   },
   "source": [
    "Print out epistasis analysis from LLM"
   ]
  },
  {
   "cell_type": "code",
   "execution_count": 20,
   "id": "11a0262d-f111-4b0b-b98c-4398ab56d8f6",
   "metadata": {
    "pycharm": {
     "name": "#%%\n"
    }
   },
   "outputs": [],
   "source": [
    "from IPython.display import Markdown as md"
   ]
  },
  {
   "cell_type": "code",
   "execution_count": 21,
   "id": "1bedf6b8-29e8-4d8f-9f33-b6f4848287c8",
   "metadata": {
    "pycharm": {
     "name": "#%%\n"
    }
   },
   "outputs": [
    {
     "data": {
      "text/markdown": [
       "### **Analysis of Epistatic Interaction Between APOA4 and CETP in Phospholipid Transport**\n",
       "\n",
       "#### **1. Biological Roles of APOA4 and CETP in Phospholipid Transport**\n",
       "- **APOA4 (Apolipoprotein A-IV):**  \n",
       "  - APOA4 is a key component of high-density lipoprotein (HDL) and chylomicrons.\n",
       "  - It plays a role in lipid metabolism, particularly in the transport and regulation of phospholipids and triglycerides (TGs).\n",
       "  - APOA4 is involved in reverse cholesterol transport, facilitating cholesterol efflux and influencing HDL metabolism.\n",
       "\n",
       "- **CETP (Cholesteryl Ester Transfer Protein):**  \n",
       "  - CETP mediates the transfer of cholesteryl esters from HDL to apolipoprotein B-containing lipoproteins (e.g., low-density lipoproteins (LDL) and very-low-density lipoproteins (VLDL)) in exchange for triglycerides.\n",
       "  - This process modulates the composition of HDL and influences the TG/HDL ratio.\n",
       "  - High CETP activity is often associated with reduced HDL levels and increased cardiovascular risk.\n",
       "\n",
       "#### **2. Interaction and Influence on TG/HDL Ratio**\n",
       "- APOA4 promotes HDL formation and cholesterol efflux, thereby reducing the TG/HDL ratio.\n",
       "- CETP, on the other hand, facilitates the transfer of TGs into HDL while depleting HDL of cholesteryl esters, which ultimately lowers HDL cholesterol levels and increases the TG/HDL ratio.\n",
       "- The balance between APOA4's HDL-promoting function and CETP's HDL-remodeling activity directly influences the TG/HDL phenotype.\n",
       "- **Prediction:** If APOA4 activity increases or CETP activity decreases, the TG/HDL ratio should decrease, leading to a more favorable lipid profile.\n",
       "\n",
       "#### **3. Possible Epistatic Relationships**\n",
       "- **Antagonistic Epistasis (Opposing Effects):** APOA4 and CETP exhibit opposing roles in HDL metabolism. CETP reduces HDL levels by transferring cholesterol to TG-rich lipoproteins, while APOA4 enhances HDL formation and function.\n",
       "- **Suppressive Epistasis:** Loss of CETP function (e.g., CETP inhibition) could suppress the effects of APOA4 loss by preventing HDL depletion, thereby maintaining a more balanced lipid profile.\n",
       "- **Synthetic Interaction (Potential Compensation):** If both genes are knocked out, HDL formation may be severely impaired, leading to dysregulated lipid transport and increased cardiovascular risk.\n",
       "\n",
       "#### **4. Phenotypic Effects of Gene Perturbations**\n",
       "| **Perturbation** | **Expected TG/HDL Ratio Change** | **Phenotypic Implication** |\n",
       "|-----------------|---------------------------------|---------------------------|\n",
       "| **Loss of APOA4** | Increased TG/HDL ratio | Reduced HDL levels, impaired cholesterol efflux, higher cardiovascular risk |\n",
       "| **Loss of CETP** | Decreased TG/HDL ratio | Increased HDL levels, potential cardioprotective effect |\n",
       "| **Loss of both APOA4 and CETP** | Variable (depends on compensatory mechanisms) | HDL metabolism may be severely altered, possibly leading to lipid imbalance |\n",
       "| **Overexpression of APOA4** | Decreased TG/HDL ratio | Increased HDL levels, improved lipid transport |\n",
       "| **Overexpression of CETP** | Increased TG/HDL ratio | Decreased HDL levels, increased cardiovascular risk |\n",
       "\n",
       "#### **Conclusion**\n",
       "- APOA4 and CETP exhibit **antagonistic epistasis**, where CETP counteracts the HDL-promoting effects of APOA4.\n",
       "- CETP inhibition may **suppress** the detrimental effects of APOA4 loss, suggesting a potential therapeutic strategy for improving lipid profiles.\n",
       "- Double knockout effects are complex and may depend on compensatory pathways in lipid transport.\n",
       "\n",
       "This analysis highlights how these two genes interact to shape the TG/HDL ratio and provides insights into potential genetic or pharmacological interventions."
      ],
      "text/plain": [
       "<IPython.core.display.Markdown object>"
      ]
     },
     "execution_count": 21,
     "metadata": {},
     "output_type": "execute_result"
    }
   ],
   "source": [
    "md(llm_result)"
   ]
  },
  {
   "cell_type": "markdown",
   "id": "8c3a2e41-902e-4a33-a853-569d2d81a133",
   "metadata": {
    "pycharm": {
     "name": "#%% md\n"
    }
   },
   "source": [
    "**You can also visualize llm analysis as diagram!**"
   ]
  },
  {
   "cell_type": "code",
   "execution_count": 22,
   "id": "29dcc20e-ea15-41e2-8e1f-3f9adb5e169d",
   "metadata": {
    "pycharm": {
     "name": "#%%\n"
    }
   },
   "outputs": [
    {
     "data": {
      "image/svg+xml": [
       "<?xml version=\"1.0\" encoding=\"UTF-8\" standalone=\"no\"?>\n",
       "<!DOCTYPE svg PUBLIC \"-//W3C//DTD SVG 1.1//EN\"\n",
       " \"http://www.w3.org/Graphics/SVG/1.1/DTD/svg11.dtd\">\n",
       "<!-- Generated by graphviz version 2.50.0 (0)\n",
       " -->\n",
       "<!-- Title: Epistasis Pages: 1 -->\n",
       "<svg width=\"539pt\" height=\"254pt\"\n",
       " viewBox=\"0.00 0.00 539.00 253.61\" xmlns=\"http://www.w3.org/2000/svg\" xmlns:xlink=\"http://www.w3.org/1999/xlink\">\n",
       "<g id=\"graph0\" class=\"graph\" transform=\"scale(1 1) rotate(0) translate(4 249.61)\">\n",
       "<title>Epistasis</title>\n",
       "<polygon fill=\"white\" stroke=\"transparent\" points=\"-4,4 -4,-249.61 535,-249.61 535,4 -4,4\"/>\n",
       "<!-- APOA4 -->\n",
       "<g id=\"node1\" class=\"node\">\n",
       "<title>APOA4</title>\n",
       "<ellipse fill=\"none\" stroke=\"black\" cx=\"211.5\" cy=\"-113.87\" rx=\"211.5\" ry=\"27\"/>\n",
       "<text text-anchor=\"middle\" x=\"211.5\" y=\"-117.67\" font-family=\"Times,serif\" font-size=\"14.00\">APOA4</text>\n",
       "<text text-anchor=\"middle\" x=\"211.5\" y=\"-102.67\" font-family=\"Times,serif\" font-size=\"14.00\">(Promotes HDL formation, reduces TG/HDL ratio)</text>\n",
       "</g>\n",
       "<!-- Phenotype -->\n",
       "<g id=\"node2\" class=\"node\">\n",
       "<title>Phenotype</title>\n",
       "<polygon fill=\"none\" stroke=\"black\" points=\"384.5,-36 284.5,-36 284.5,0 384.5,0 384.5,-36\"/>\n",
       "<text text-anchor=\"middle\" x=\"334.5\" y=\"-14.3\" font-family=\"Times,serif\" font-size=\"14.00\">TG/HDL Ratio</text>\n",
       "</g>\n",
       "<!-- APOA4&#45;&gt;Phenotype -->\n",
       "<g id=\"edge1\" class=\"edge\">\n",
       "<title>APOA4&#45;&gt;Phenotype</title>\n",
       "<path fill=\"none\" stroke=\"blue\" d=\"M245.12,-87.22C263.45,-73.22 285.99,-56.03 303.84,-42.4\"/>\n",
       "<polygon fill=\"blue\" stroke=\"blue\" points=\"306.36,-44.88 312.19,-36.03 302.12,-39.31 306.36,-44.88\"/>\n",
       "<text text-anchor=\"middle\" x=\"315.5\" y=\"-57.8\" font-family=\"Times,serif\" font-size=\"14.00\">Decreases</text>\n",
       "</g>\n",
       "<!-- CETP -->\n",
       "<g id=\"node3\" class=\"node\">\n",
       "<title>CETP</title>\n",
       "<ellipse fill=\"none\" stroke=\"black\" cx=\"334.5\" cy=\"-218.61\" rx=\"196.5\" ry=\"27\"/>\n",
       "<text text-anchor=\"middle\" x=\"334.5\" y=\"-222.41\" font-family=\"Times,serif\" font-size=\"14.00\">CETP</text>\n",
       "<text text-anchor=\"middle\" x=\"334.5\" y=\"-207.41\" font-family=\"Times,serif\" font-size=\"14.00\">(Transfers cholesterol, increases TG/HDL ratio)</text>\n",
       "</g>\n",
       "<!-- CETP&#45;&gt;APOA4 -->\n",
       "<g id=\"edge2\" class=\"edge\">\n",
       "<title>CETP&#45;&gt;APOA4</title>\n",
       "<path fill=\"none\" stroke=\"purple\" d=\"M303.78,-191.95C287.49,-178.34 267.32,-161.49 250,-147.02\"/>\n",
       "<polygon fill=\"purple\" stroke=\"purple\" points=\"252.18,-144.28 242.26,-140.56 247.69,-149.65 252.18,-144.28\"/>\n",
       "<text text-anchor=\"middle\" x=\"314.5\" y=\"-162.54\" font-family=\"Times,serif\" font-size=\"14.00\">Antagonistic</text>\n",
       "</g>\n",
       "<!-- CETP&#45;&gt;Phenotype -->\n",
       "<g id=\"edge3\" class=\"edge\">\n",
       "<title>CETP&#45;&gt;Phenotype</title>\n",
       "<path fill=\"none\" stroke=\"red\" d=\"M382.36,-192.4C401.33,-179.67 421.08,-162.31 431.5,-140.74 441.9,-119.24 442.53,-108.19 431.5,-87 421.23,-67.24 402.29,-52.03 383.86,-41.06\"/>\n",
       "<polygon fill=\"red\" stroke=\"red\" points=\"385.32,-37.87 374.89,-36.01 381.89,-43.97 385.32,-37.87\"/>\n",
       "<text text-anchor=\"middle\" x=\"465\" y=\"-110.17\" font-family=\"Times,serif\" font-size=\"14.00\">Increases</text>\n",
       "</g>\n",
       "</g>\n",
       "</svg>\n"
      ],
      "text/plain": [
       "<AGraph b'Epistasis' <Swig Object of type 'Agraph_t *' at 0x155532557a20>>"
      ]
     },
     "execution_count": 22,
     "metadata": {},
     "output_type": "execute_result"
    }
   ],
   "source": [
    "epistasis_explainer.visualize_epistasis_from_llm_analysis(llm_result)"
   ]
  },
  {
   "cell_type": "code",
   "execution_count": null,
   "id": "95697b84-c99b-4b63-b0f2-d3fd77a8b2a3",
   "metadata": {
    "pycharm": {
     "name": "#%%\n"
    }
   },
   "outputs": [],
   "source": []
  }
 ],
 "metadata": {
  "kernelspec": {
   "display_name": "Python [conda env:G2PT_github]",
   "language": "python",
   "name": "conda-env-G2PT_github-py"
  },
  "language_info": {
   "codemirror_mode": {
    "name": "ipython",
    "version": 3
   },
   "file_extension": ".py",
   "mimetype": "text/x-python",
   "name": "python",
   "nbconvert_exporter": "python",
   "pygments_lexer": "ipython3",
   "version": "3.8.19"
  }
 },
 "nbformat": 4,
 "nbformat_minor": 5
}